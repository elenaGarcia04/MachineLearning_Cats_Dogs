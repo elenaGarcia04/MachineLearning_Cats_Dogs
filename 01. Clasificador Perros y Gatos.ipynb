{
 "cells": [
  {
   "cell_type": "markdown",
   "id": "426eacc0",
   "metadata": {},
   "source": [
    "## Cat and Dog Detection - Image Classification con Data Augmentation\n",
    "\n",
    "En esta tarea tendrán que crear un modelo de clasificación que sea capaz de predecir correctamente si en una foto hay un perro o un gato. Utilizarán el dataset `cats_and_dogs.zip`.\n",
    "\n",
    "---\n",
    "\n",
    "#### 01. Data Augmentation con `imgaug`\n",
    "\n",
    "- Crea una pipeline con `iaa.Sequential` que aplique varias transformaciones a las imágenes.\n",
    "- La transformación final de la pipeline será un `iaa.Resize`. Esta pipeline será de entrenamiento.\n",
    "- Visualiza varias de las fotos que salen de esa pipeline para asegurarte de que las transformaciones no arruinan las imágenes.\n",
    "- Crea otra pipeline que solo aplique un `iaa.Resize`. Esta pipeline será de test.\n",
    "\n",
    "#### 02. Generador de Datos con `PyDataset`\n",
    "\n",
    "- Crea una clase que herede de `keras.utils.PyDataset`. Esta clase se encargará de agrupar las fotos en batches y alimentarlas a la red neuronal. Además de esto, aplicará las transformaciones de la pipeline de aumentado de datos a cada foto antes de añadirla al batch.\n",
    "- Separa tus datos en train y test, y crea un dataset para cada conjunto de datos.\n",
    "\n",
    "#### 03. Modelo de Clasificación (Deep Learning)\n",
    "\n",
    "- Diseña una arquitectura CNN básica que pueda tomar una imágen a color y retornar la etiqueta de perro o gato.\n",
    "- Utiliza uno o dos bloques convolucionales.\n",
    "- Utiliza una o dos capas densas profundas.\n",
    "\n",
    "#### 04. Entrenamiento y Evaluación\n",
    "\n",
    "- Entrena el modelo entre 20 y 50 épocas.\n",
    "- Haz un plot de los resultados, concretamente la evolución del loss (train y val) y del accuracy (train y val). Además de esto, dibuja la matriz de confusión.\n",
    "\n",
    "#### 05. Análisis de Resultados y Conclusiones\n",
    "\n",
    "- ¿Está el modelo aprendiendo correctamente?\n",
    "- ¿Está el modelo generalizando bien lo aprendido?\n",
    "- ¿Comete más falsos positivos o falsos negativos?\n",
    "- Piensa muy bien acerca de estas preguntas, y también reflexiona acerca de las causas de las cosas que no salen bien (por ejemplo, el modelo no generaliza bien).\n",
    "\n",
    "#### 06. Primera Iteración\n",
    "- Basándote en tu reflexión, haz cambios a tu código. Puedes modificar tu pipeline, la arquitectura, o utilizar técnicas de regularización como Dropouts y Callbacks. Juega con diferentes optimizadores y el learning rate, o prueba entrenar más tiempo.\n",
    "- Haz como máximo dos cambios, pero idealmente solo uno.\n",
    "- Justifica por escrito los cambios.\n",
    "- Importante: No cambies el código que ya tengas hecho. Haz un apartado nuevo en tu notebook y escribe ahí la nueva versión.\n",
    "\n",
    "#### 07. Segunda Iteración\n",
    "- Repite el punto 06.\n",
    "\n",
    "#### 08. Última Iteración\n",
    "- Repite el punto 06."
   ]
  },
  {
   "cell_type": "code",
   "execution_count": null,
   "id": "85f55ec7",
   "metadata": {},
   "outputs": [],
   "source": [
    "from keras.layers import Input, Flatten, Dense, Conv2D, MaxPooling2D\n",
    "from keras.models import Sequential\n",
    "from keras.losses import BinaryCrossentropy\n",
    "from keras.metrics import BinaryAccuracy\n",
    "from keras.optimizers import Adam\n",
    "\n",
    "from keras.utils import PyDataset\n",
    "\n",
    "import imgaug.augmenters as iaa\n",
    "\n",
    "from matplotlib import pyplot as plt\n",
    "import pandas as pd\n",
    "import numpy as np\n",
    "import os\n",
    "\n",
    "import cv2"
   ]
  },
  {
   "cell_type": "code",
   "execution_count": null,
   "id": "8abf721f",
   "metadata": {},
   "outputs": [],
   "source": [
    "IMG_DIR = \"../Data/img/cats_and_dogs/images/\""
   ]
  },
  {
   "cell_type": "code",
   "execution_count": null,
   "id": "fce05985",
   "metadata": {},
   "outputs": [],
   "source": []
  },
  {
   "cell_type": "code",
   "execution_count": null,
   "id": "f82e3625",
   "metadata": {},
   "outputs": [],
   "source": []
  },
  {
   "cell_type": "code",
   "execution_count": null,
   "id": "b67df761",
   "metadata": {},
   "outputs": [],
   "source": []
  },
  {
   "cell_type": "code",
   "execution_count": null,
   "id": "54ea5ddf",
   "metadata": {},
   "outputs": [],
   "source": []
  },
  {
   "cell_type": "code",
   "execution_count": null,
   "id": "92d6df1e",
   "metadata": {},
   "outputs": [],
   "source": []
  },
  {
   "cell_type": "code",
   "execution_count": null,
   "id": "6bc13132",
   "metadata": {},
   "outputs": [],
   "source": []
  },
  {
   "cell_type": "code",
   "execution_count": null,
   "id": "f500fe7c",
   "metadata": {},
   "outputs": [],
   "source": []
  },
  {
   "cell_type": "code",
   "execution_count": null,
   "id": "4ea0fdaf",
   "metadata": {},
   "outputs": [],
   "source": []
  },
  {
   "cell_type": "code",
   "execution_count": null,
   "id": "494c9a9f",
   "metadata": {},
   "outputs": [],
   "source": []
  }
 ],
 "metadata": {
  "kernelspec": {
   "display_name": "Python 3",
   "language": "python",
   "name": "python3"
  },
  "language_info": {
   "codemirror_mode": {
    "name": "ipython",
    "version": 3
   },
   "file_extension": ".py",
   "mimetype": "text/x-python",
   "name": "python",
   "nbconvert_exporter": "python",
   "pygments_lexer": "ipython3",
   "version": "3.12.8"
  }
 },
 "nbformat": 4,
 "nbformat_minor": 5
}
